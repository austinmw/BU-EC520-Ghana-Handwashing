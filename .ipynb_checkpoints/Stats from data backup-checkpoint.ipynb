{
 "cells": [
  {
   "cell_type": "code",
   "execution_count": 192,
   "metadata": {
    "collapsed": true
   },
   "outputs": [],
   "source": [
    "# imports\n",
    "import numpy as np\n",
    "import pandas as pd\n",
    "import matplotlib as mpl\n",
    "import matplotlib.pyplot as plt\n",
    "import re\n",
    "import seaborn as sns\n",
    "import os\n",
    "import os.path, time\n",
    "import sys\n",
    "%matplotlib inline\n",
    "from IPython.core.interactiveshell import InteractiveShell\n",
    "InteractiveShell.ast_node_interactivity = \"all\""
   ]
  },
  {
   "cell_type": "code",
   "execution_count": 193,
   "metadata": {
    "collapsed": false
   },
   "outputs": [
    {
     "data": {
      "text/plain": [
       "(23293, 11)"
      ]
     },
     "execution_count": 193,
     "metadata": {},
     "output_type": "execute_result"
    },
    {
     "data": {
      "text/html": [
       "<div>\n",
       "<table border=\"1\" class=\"dataframe\">\n",
       "  <thead>\n",
       "    <tr style=\"text-align: right;\">\n",
       "      <th></th>\n",
       "      <th>hard drive</th>\n",
       "      <th>school</th>\n",
       "      <th>video folder</th>\n",
       "      <th>file name</th>\n",
       "      <th>day</th>\n",
       "      <th>month</th>\n",
       "      <th>date</th>\n",
       "      <th>time</th>\n",
       "      <th>year</th>\n",
       "      <th>floatTime</th>\n",
       "      <th>full path</th>\n",
       "    </tr>\n",
       "  </thead>\n",
       "  <tbody>\n",
       "    <tr>\n",
       "      <th>0</th>\n",
       "      <td>hd1</td>\n",
       "      <td>Agona Nkran Islamic</td>\n",
       "      <td>Video 1</td>\n",
       "      <td>VID0001.AVI</td>\n",
       "      <td>Tue</td>\n",
       "      <td>Feb</td>\n",
       "      <td>7</td>\n",
       "      <td>10:06:30</td>\n",
       "      <td>2017</td>\n",
       "      <td>10.1050</td>\n",
       "      <td>/Volumes/Seagate/hd1/Agona Nkran Islamic/Basel...</td>\n",
       "    </tr>\n",
       "    <tr>\n",
       "      <th>1</th>\n",
       "      <td>hd1</td>\n",
       "      <td>Agona Nkran Islamic</td>\n",
       "      <td>Video 1</td>\n",
       "      <td>VID0002.AVI</td>\n",
       "      <td>Tue</td>\n",
       "      <td>Feb</td>\n",
       "      <td>7</td>\n",
       "      <td>10:07:06</td>\n",
       "      <td>2017</td>\n",
       "      <td>10.1110</td>\n",
       "      <td>/Volumes/Seagate/hd1/Agona Nkran Islamic/Basel...</td>\n",
       "    </tr>\n",
       "    <tr>\n",
       "      <th>2</th>\n",
       "      <td>hd1</td>\n",
       "      <td>Agona Nkran Islamic</td>\n",
       "      <td>Video 1</td>\n",
       "      <td>VID0003.AVI</td>\n",
       "      <td>Tue</td>\n",
       "      <td>Feb</td>\n",
       "      <td>7</td>\n",
       "      <td>10:07:40</td>\n",
       "      <td>2017</td>\n",
       "      <td>10.1166</td>\n",
       "      <td>/Volumes/Seagate/hd1/Agona Nkran Islamic/Basel...</td>\n",
       "    </tr>\n",
       "    <tr>\n",
       "      <th>3</th>\n",
       "      <td>hd1</td>\n",
       "      <td>Agona Nkran Islamic</td>\n",
       "      <td>Video 1</td>\n",
       "      <td>VID0004.AVI</td>\n",
       "      <td>Tue</td>\n",
       "      <td>Feb</td>\n",
       "      <td>7</td>\n",
       "      <td>10:12:36</td>\n",
       "      <td>2017</td>\n",
       "      <td>10.2060</td>\n",
       "      <td>/Volumes/Seagate/hd1/Agona Nkran Islamic/Basel...</td>\n",
       "    </tr>\n",
       "    <tr>\n",
       "      <th>4</th>\n",
       "      <td>hd1</td>\n",
       "      <td>Agona Nkran Islamic</td>\n",
       "      <td>Video 1</td>\n",
       "      <td>VID0005.AVI</td>\n",
       "      <td>Tue</td>\n",
       "      <td>Feb</td>\n",
       "      <td>7</td>\n",
       "      <td>10:13:24</td>\n",
       "      <td>2017</td>\n",
       "      <td>10.2140</td>\n",
       "      <td>/Volumes/Seagate/hd1/Agona Nkran Islamic/Basel...</td>\n",
       "    </tr>\n",
       "  </tbody>\n",
       "</table>\n",
       "</div>"
      ],
      "text/plain": [
       "  hard drive               school video folder    file name  day month date  \\\n",
       "0        hd1  Agona Nkran Islamic      Video 1  VID0001.AVI  Tue   Feb    7   \n",
       "1        hd1  Agona Nkran Islamic      Video 1  VID0002.AVI  Tue   Feb    7   \n",
       "2        hd1  Agona Nkran Islamic      Video 1  VID0003.AVI  Tue   Feb    7   \n",
       "3        hd1  Agona Nkran Islamic      Video 1  VID0004.AVI  Tue   Feb    7   \n",
       "4        hd1  Agona Nkran Islamic      Video 1  VID0005.AVI  Tue   Feb    7   \n",
       "\n",
       "       time  year  floatTime  \\\n",
       "0  10:06:30  2017    10.1050   \n",
       "1  10:07:06  2017    10.1110   \n",
       "2  10:07:40  2017    10.1166   \n",
       "3  10:12:36  2017    10.2060   \n",
       "4  10:13:24  2017    10.2140   \n",
       "\n",
       "                                           full path  \n",
       "0  /Volumes/Seagate/hd1/Agona Nkran Islamic/Basel...  \n",
       "1  /Volumes/Seagate/hd1/Agona Nkran Islamic/Basel...  \n",
       "2  /Volumes/Seagate/hd1/Agona Nkran Islamic/Basel...  \n",
       "3  /Volumes/Seagate/hd1/Agona Nkran Islamic/Basel...  \n",
       "4  /Volumes/Seagate/hd1/Agona Nkran Islamic/Basel...  "
      ]
     },
     "execution_count": 193,
     "metadata": {},
     "output_type": "execute_result"
    }
   ],
   "source": [
    "# import and concat dataframes\n",
    "hd1Dataframe = pd.read_pickle('hd1Pickle')\n",
    "hd2Dataframe = pd.read_pickle('hd2Pickle')\n",
    "dfAll = hd1Dataframe.append(hd2Dataframe, ignore_index=True)\n",
    "\n",
    "# double check that size is 6563+16730 --good\n",
    "dfAll.shape\n",
    "# take a look\n",
    "dfAll.head()"
   ]
  },
  {
   "cell_type": "code",
   "execution_count": 194,
   "metadata": {
    "collapsed": false
   },
   "outputs": [
    {
     "data": {
      "text/plain": [
       "23293"
      ]
     },
     "execution_count": 194,
     "metadata": {},
     "output_type": "execute_result"
    }
   ],
   "source": [
    "# resplit to check again\n",
    "df1 = dfAll[dfAll['hard drive'] == 'hd1']\n",
    "df2 = dfAll[dfAll['hard drive'] == 'hd2']\n",
    "# recheck size\n",
    "df1.shape[0]+df2.shape[0]\n",
    "# looks good"
   ]
  },
  {
   "cell_type": "code",
   "execution_count": 195,
   "metadata": {
    "collapsed": false
   },
   "outputs": [
    {
     "data": {
      "text/plain": [
       "str"
      ]
     },
     "execution_count": 195,
     "metadata": {},
     "output_type": "execute_result"
    },
    {
     "data": {
      "text/plain": [
       "str"
      ]
     },
     "execution_count": 195,
     "metadata": {},
     "output_type": "execute_result"
    },
    {
     "data": {
      "text/plain": [
       "numpy.float64"
      ]
     },
     "execution_count": 195,
     "metadata": {},
     "output_type": "execute_result"
    },
    {
     "data": {
      "text/plain": [
       "numpy.int64"
      ]
     },
     "execution_count": 195,
     "metadata": {},
     "output_type": "execute_result"
    },
    {
     "data": {
      "text/plain": [
       "numpy.int64"
      ]
     },
     "execution_count": 195,
     "metadata": {},
     "output_type": "execute_result"
    },
    {
     "data": {
      "text/plain": [
       "numpy.float64"
      ]
     },
     "execution_count": 195,
     "metadata": {},
     "output_type": "execute_result"
    }
   ],
   "source": [
    "# check types\n",
    "type(dfAll['date'][0])\n",
    "type(dfAll['year'][0])\n",
    "type(dfAll['floatTime'][0])\n",
    "# convert date and year to ints\n",
    "dfAll = dfAll.assign(date=dfAll.date.astype(np.int64))\n",
    "dfAll = dfAll.assign(year=dfAll.year.astype(np.int64))\n",
    "# recheck types --good\n",
    "type(dfAll['date'][0])\n",
    "type(dfAll['year'][0])\n",
    "type(dfAll['floatTime'][0])"
   ]
  },
  {
   "cell_type": "code",
   "execution_count": 198,
   "metadata": {
    "collapsed": false
   },
   "outputs": [],
   "source": [
    "# save concatenated dataframe to pkl and csv\n",
    "dfAll.to_pickle('bothHDsPKL')\n",
    "dfAll.to_csv('bothHDsCSV')"
   ]
  }
 ],
 "metadata": {
  "kernelspec": {
   "display_name": "Python [conda root]",
   "language": "python",
   "name": "conda-root-py"
  },
  "language_info": {
   "codemirror_mode": {
    "name": "ipython",
    "version": 3
   },
   "file_extension": ".py",
   "mimetype": "text/x-python",
   "name": "python",
   "nbconvert_exporter": "python",
   "pygments_lexer": "ipython3",
   "version": "3.5.2"
  }
 },
 "nbformat": 4,
 "nbformat_minor": 2
}
