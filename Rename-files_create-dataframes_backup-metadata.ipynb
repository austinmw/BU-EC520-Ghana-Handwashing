{
 "cells": [
  {
   "cell_type": "markdown",
   "metadata": {},
   "source": [
    "# In this notebook:\n",
    "- rename all files in all school directories of MY_COPY parent directory by: schoolname_timestamp\n",
    "- load and split this information into dataframes \n",
    "- backup metadata from these dataframes"
   ]
  },
  {
   "cell_type": "code",
   "execution_count": 223,
   "metadata": {
    "collapsed": true
   },
   "outputs": [],
   "source": [
    "# imports\n",
    "import numpy as np\n",
    "import pandas as pd\n",
    "import matplotlib as mpl\n",
    "import matplotlib.pyplot as plt\n",
    "import re\n",
    "import seaborn as sns\n",
    "import os\n",
    "import os.path, time\n",
    "import sys\n",
    "from shutil import copyfile\n",
    "%matplotlib inline"
   ]
  },
  {
   "cell_type": "code",
   "execution_count": 165,
   "metadata": {
    "collapsed": false
   },
   "outputs": [
    {
     "data": {
      "text/plain": [
       "['Agona Nkran Islamic',\n",
       " 'Akakom DA Primary',\n",
       " 'Akropong Presby Primary',\n",
       " 'Akwaboso Methodist Primary',\n",
       " 'Ampampatia',\n",
       " 'Asafo Presby Primary',\n",
       " 'Asamama Presby Primary',\n",
       " 'Awutu AME Zion',\n",
       " 'Ayinam Presby Primary',\n",
       " 'Gyesikrom AEDA Primary',\n",
       " 'Itifaqiya Islamic Primary',\n",
       " 'Kwabeng Anglican Primary',\n",
       " 'Mankrong Methodist Primary',\n",
       " 'Ninta Methodist',\n",
       " 'Nsabaa AME Zion',\n",
       " 'Nsabaa Methodist',\n",
       " 'Nuriya DA Primary Bawijiase',\n",
       " 'Presby Primary Bawijiase',\n",
       " 'Rev. Erickson',\n",
       " 'St. Killian Catholic Primary']"
      ]
     },
     "execution_count": 165,
     "metadata": {},
     "output_type": "execute_result"
    }
   ],
   "source": [
    "# hd path\n",
    "hdpath = '/Volumes/Seagate/MY_COPY/'\n",
    "\n",
    "# school names\n",
    "schools = [f for f in os.listdir(hdpath) if f[0]!='.']\n",
    "schools = schools[1:]\n",
    "#print(\"School Names:\",*schools, sep='\\n')\n",
    "\n",
    "# school paths\n",
    "schoolPaths = [hdpath+s+'/' for s in schools]\n",
    "\n",
    "schools"
   ]
  },
  {
   "cell_type": "markdown",
   "metadata": {},
   "source": [
    "### below code renames every video in every directory to school_timestamp.avi"
   ]
  },
  {
   "cell_type": "raw",
   "metadata": {},
   "source": [
    "# SUCCESS! (probably don't run this again, not sure what will happen)\n",
    "\n",
    "errCount = 0;\n",
    "# loop through schools\n",
    "for i,s in enumerate(schoolPaths):\n",
    "    # file (vid) names in school path\n",
    "    sVids = [f for f in os.listdir(s) if f[0]!='.'] \n",
    "    # full vid path names in school path\n",
    "    vidPaths = [s+v for v in sVids]\n",
    "    # timestamps for each file\n",
    "    timestamps = [time.ctime(os.path.getmtime(v)).replace('  ', ' ').split(' ') for v in vidPaths]\n",
    "    namestrings = [schools[i]+'_'+'_'.join(t) for t in timestamps]\n",
    "    fullrenames = [s+n+'.avi' for n in namestrings]\n",
    "    for i,v in enumerate(vidPaths):        \n",
    "        try:\n",
    "            os.rename(v, fullrenames[i])\n",
    "        except:\n",
    "            errCount += 1          "
   ]
  },
  {
   "cell_type": "code",
   "execution_count": 100,
   "metadata": {
    "collapsed": false
   },
   "outputs": [
    {
     "data": {
      "text/plain": [
       "0"
      ]
     },
     "execution_count": 100,
     "metadata": {},
     "output_type": "execute_result"
    }
   ],
   "source": [
    "errCount"
   ]
  },
  {
   "cell_type": "code",
   "execution_count": 218,
   "metadata": {
    "collapsed": false
   },
   "outputs": [
    {
     "data": {
      "text/html": [
       "<div>\n",
       "<table border=\"1\" class=\"dataframe\">\n",
       "  <thead>\n",
       "    <tr style=\"text-align: right;\">\n",
       "      <th></th>\n",
       "      <th>School Name</th>\n",
       "      <th>Day</th>\n",
       "      <th>Month</th>\n",
       "      <th>Date</th>\n",
       "      <th>Time</th>\n",
       "      <th>Year</th>\n",
       "      <th>Hour</th>\n",
       "      <th>Minute</th>\n",
       "      <th>Second</th>\n",
       "      <th>File Name</th>\n",
       "      <th>Full Path</th>\n",
       "    </tr>\n",
       "  </thead>\n",
       "  <tbody>\n",
       "    <tr>\n",
       "      <th>0</th>\n",
       "      <td>Agona Nkran Islamic</td>\n",
       "      <td>Fri</td>\n",
       "      <td>Feb</td>\n",
       "      <td>10</td>\n",
       "      <td>08:15:40</td>\n",
       "      <td>2017</td>\n",
       "      <td>8</td>\n",
       "      <td>15</td>\n",
       "      <td>40</td>\n",
       "      <td>Agona Nkran Islamic_Fri_Feb_10_08:15:40_2017.avi</td>\n",
       "      <td>/Volumes/Seagate/MY_COPY/Agona Nkran Islamic/A...</td>\n",
       "    </tr>\n",
       "    <tr>\n",
       "      <th>1</th>\n",
       "      <td>Agona Nkran Islamic</td>\n",
       "      <td>Fri</td>\n",
       "      <td>Feb</td>\n",
       "      <td>10</td>\n",
       "      <td>08:17:14</td>\n",
       "      <td>2017</td>\n",
       "      <td>8</td>\n",
       "      <td>17</td>\n",
       "      <td>14</td>\n",
       "      <td>Agona Nkran Islamic_Fri_Feb_10_08:17:14_2017.avi</td>\n",
       "      <td>/Volumes/Seagate/MY_COPY/Agona Nkran Islamic/A...</td>\n",
       "    </tr>\n",
       "    <tr>\n",
       "      <th>2</th>\n",
       "      <td>Agona Nkran Islamic</td>\n",
       "      <td>Fri</td>\n",
       "      <td>Feb</td>\n",
       "      <td>10</td>\n",
       "      <td>08:25:58</td>\n",
       "      <td>2017</td>\n",
       "      <td>8</td>\n",
       "      <td>25</td>\n",
       "      <td>58</td>\n",
       "      <td>Agona Nkran Islamic_Fri_Feb_10_08:25:58_2017.avi</td>\n",
       "      <td>/Volumes/Seagate/MY_COPY/Agona Nkran Islamic/A...</td>\n",
       "    </tr>\n",
       "    <tr>\n",
       "      <th>3</th>\n",
       "      <td>Agona Nkran Islamic</td>\n",
       "      <td>Fri</td>\n",
       "      <td>Feb</td>\n",
       "      <td>10</td>\n",
       "      <td>08:35:34</td>\n",
       "      <td>2017</td>\n",
       "      <td>8</td>\n",
       "      <td>35</td>\n",
       "      <td>34</td>\n",
       "      <td>Agona Nkran Islamic_Fri_Feb_10_08:35:34_2017.avi</td>\n",
       "      <td>/Volumes/Seagate/MY_COPY/Agona Nkran Islamic/A...</td>\n",
       "    </tr>\n",
       "    <tr>\n",
       "      <th>4</th>\n",
       "      <td>Agona Nkran Islamic</td>\n",
       "      <td>Fri</td>\n",
       "      <td>Feb</td>\n",
       "      <td>10</td>\n",
       "      <td>08:39:06</td>\n",
       "      <td>2017</td>\n",
       "      <td>8</td>\n",
       "      <td>39</td>\n",
       "      <td>6</td>\n",
       "      <td>Agona Nkran Islamic_Fri_Feb_10_08:39:06_2017.avi</td>\n",
       "      <td>/Volumes/Seagate/MY_COPY/Agona Nkran Islamic/A...</td>\n",
       "    </tr>\n",
       "  </tbody>\n",
       "</table>\n",
       "</div>"
      ],
      "text/plain": [
       "           School Name  Day Month  Date      Time  Year  Hour  Minute  Second  \\\n",
       "0  Agona Nkran Islamic  Fri   Feb    10  08:15:40  2017     8      15      40   \n",
       "1  Agona Nkran Islamic  Fri   Feb    10  08:17:14  2017     8      17      14   \n",
       "2  Agona Nkran Islamic  Fri   Feb    10  08:25:58  2017     8      25      58   \n",
       "3  Agona Nkran Islamic  Fri   Feb    10  08:35:34  2017     8      35      34   \n",
       "4  Agona Nkran Islamic  Fri   Feb    10  08:39:06  2017     8      39       6   \n",
       "\n",
       "                                          File Name  \\\n",
       "0  Agona Nkran Islamic_Fri_Feb_10_08:15:40_2017.avi   \n",
       "1  Agona Nkran Islamic_Fri_Feb_10_08:17:14_2017.avi   \n",
       "2  Agona Nkran Islamic_Fri_Feb_10_08:25:58_2017.avi   \n",
       "3  Agona Nkran Islamic_Fri_Feb_10_08:35:34_2017.avi   \n",
       "4  Agona Nkran Islamic_Fri_Feb_10_08:39:06_2017.avi   \n",
       "\n",
       "                                           Full Path  \n",
       "0  /Volumes/Seagate/MY_COPY/Agona Nkran Islamic/A...  \n",
       "1  /Volumes/Seagate/MY_COPY/Agona Nkran Islamic/A...  \n",
       "2  /Volumes/Seagate/MY_COPY/Agona Nkran Islamic/A...  \n",
       "3  /Volumes/Seagate/MY_COPY/Agona Nkran Islamic/A...  \n",
       "4  /Volumes/Seagate/MY_COPY/Agona Nkran Islamic/A...  "
      ]
     },
     "execution_count": 218,
     "metadata": {},
     "output_type": "execute_result"
    }
   ],
   "source": [
    "# Create dictionary of dataframes from sorted and renamed contents of MY_COPY folder\n",
    "dfDict = {}\n",
    "for i,s in enumerate(schools):\n",
    "    vids = [f for f in os.listdir(schoolPaths[i]) if f[0]!='.'] # file name\n",
    "    fullPaths = [schoolPaths[i]+v for v in vids] # full path\n",
    "    namesAndTimestamps = [v.split('_',1) for v in vids]\n",
    "    names = [n[0] for n in namesAndTimestamps] # school name    \n",
    "    timestamps = [t[1].split('.')[0].split('_') for t in namesAndTimestamps] # timestamp list\n",
    "    hourMinSec = [t[3].split(':') for t in timestamps] # split time\n",
    "    df = pd.DataFrame(names, columns=['School Name'])\n",
    "    df = df.join(pd.DataFrame(timestamps, columns=['Day', 'Month', 'Date', 'Time', 'Year']))\n",
    "    df = df.join(pd.DataFrame(hourMinSec, columns=['Hour','Minute','Second']))\n",
    "    df = df.join(pd.DataFrame(vids, columns=['File Name']))\n",
    "    df = df.join(pd.DataFrame(fullPaths, columns=['Full Path']))\n",
    "    df = df.assign(Date=df.Date.astype(np.int64))\n",
    "    df = df.assign(Year=df.Year.astype(np.int64))\n",
    "    df = df.assign(Hour=df.Hour.astype(np.int64))\n",
    "    df = df.assign(Minute=df.Minute.astype(np.int64))\n",
    "    df = df.assign(Second=df.Second.astype(np.int64))\n",
    "    dfDict[s] = df\n",
    "\n",
    "# check top of first school's dataframe\n",
    "dfDict[schools[0]].head()"
   ]
  },
  {
   "cell_type": "raw",
   "metadata": {},
   "source": [
    "# backup MY_COPY metadata (don't need to run more than once)\n",
    "csv_backupPath = '/Users/austin/Desktop/data_backup_MY_COPY/csv_backups/'\n",
    "pkl_backupPath = '/Users/austin/Desktop/data_backup_MY_COPY/pkl_backups/'\n",
    "for s in schools:\n",
    "    dfDict[s].to_csv(csv_backupPath+s+'.csv')\n",
    "    dfDict[s].to_pickle(pkl_backupPath+s+'.pkl')"
   ]
  },
  {
   "cell_type": "markdown",
   "metadata": {},
   "source": [
    "## Test copying files by school/month_date"
   ]
  },
  {
   "cell_type": "raw",
   "metadata": {},
   "source": [
    "# Copy every single video file into schoolname/month_day directories\n",
    "\n",
    "parent = '/Volumes/Seagate/MY_COPY/_DATES_DIRS/'\n",
    "months = ['Jan','Feb','Mar']\n",
    "\n",
    "# loop through schools\n",
    "for s in schools: # loop through schools\n",
    "    for m in months: # loop through months\n",
    "        for d in range(1,32): # loop through days\n",
    "            # select videos of particular school, month, day\n",
    "            subset = dfDict[s][(dfDict[s]['Month']==m) & (dfDict[s]['Date']==d)]\n",
    "            if subset.shape[0] > 0: # check that subset isn't null\n",
    "                names = subset['File Name'].tolist() # file names\n",
    "                sources = subset['Full Path'].tolist() # src\n",
    "                destinations = [parent+s+'/'+m.lower()+'_'+str(d)+'/'+n for n in names] # dst \n",
    "                for i in range(len(sources)):\n",
    "                    copyfile(sources[i], destinations[i])\n",
    "        print('    done', m)\n",
    "    print('done', s) # see progress      "
   ]
  },
  {
   "cell_type": "code",
   "execution_count": null,
   "metadata": {
    "collapsed": true
   },
   "outputs": [],
   "source": []
  },
  {
   "cell_type": "code",
   "execution_count": null,
   "metadata": {
    "collapsed": true
   },
   "outputs": [],
   "source": [
    "# looks good"
   ]
  }
 ],
 "metadata": {
  "kernelspec": {
   "display_name": "Python [conda root]",
   "language": "python",
   "name": "conda-root-py"
  },
  "language_info": {
   "codemirror_mode": {
    "name": "ipython",
    "version": 3
   },
   "file_extension": ".py",
   "mimetype": "text/x-python",
   "name": "python",
   "nbconvert_exporter": "python",
   "pygments_lexer": "ipython3",
   "version": "3.5.2"
  }
 },
 "nbformat": 4,
 "nbformat_minor": 2
}
